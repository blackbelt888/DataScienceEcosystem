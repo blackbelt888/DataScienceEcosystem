{
 "cells": [
  {
   "cell_type": "markdown",
   "id": "07f7fa35",
   "metadata": {},
   "source": [
    "# Data Science Tools and Ecosystem\n",
    "\n"
   ]
  },
  {
   "cell_type": "markdown",
   "id": "b2004888",
   "metadata": {},
   "source": [
    "## In this notebook, Data Science Tools and Ecosystem are summarized."
   ]
  },
  {
   "cell_type": "markdown",
   "id": "3491e545",
   "metadata": {},
   "source": [
    "# Data Science Languages\n",
    "\n",
    "Some of the popular languages that Data Scientists use are:\n",
    "\n",
    "1. **Python**\n",
    "   - Widely adopted for its simplicity, versatility, and extensive libraries such as NumPy, Pandas, and scikit-learn.\n",
    "\n",
    "2. **R**\n",
    "   - Commonly used for statistical analysis, data visualization, and machine learning.\n",
    "\n",
    "3. **SQL**\n",
    "   - Essential for working with databases, querying, and managing structured data.\n",
    "\n",
    "\n"
   ]
  },
  {
   "cell_type": "markdown",
   "id": "e07a709a",
   "metadata": {},
   "source": [
    "# Data Science Libraries\n",
    "\n",
    "Some of the commonly used libraries used by Data Scientists include:\n",
    "\n",
    "1. **NumPy:**\n",
    "   - A fundamental package for scientific computing with support for large, multi-dimensional arrays and matrices.\n",
    "\n",
    "2. **Pandas:**\n",
    "   - Provides data structures like DataFrame for efficient data manipulation and analysis.\n",
    "\n",
    "3. **Matplotlib:**\n",
    "   - A versatile plotting library for creating static, interactive, and animated visualizations in Python.\n",
    "\n"
   ]
  },
  {
   "cell_type": "markdown",
   "id": "ff487ad8",
   "metadata": {},
   "source": [
    "# Data Science Tools\n",
    "\n",
    "| Data Science Tools      |\n",
    "|-------------------------|\n",
    "| Jupyter Notebook        |\n",
    "| RStudio                 |\n",
    "| VS Code with Python ext |\n"
   ]
  },
  {
   "cell_type": "markdown",
   "id": "e069f263",
   "metadata": {},
   "source": [
    "### Arithmetic Expression Examples in Python\n",
    "\n",
    "Below are a few examples of evaluating arithmetic expressions in Python.\n"
   ]
  },
  {
   "cell_type": "code",
   "execution_count": 15,
   "id": "6427cf27",
   "metadata": {},
   "outputs": [
    {
     "data": {
      "text/plain": [
       "17"
      ]
     },
     "execution_count": 15,
     "metadata": {},
     "output_type": "execute_result"
    }
   ],
   "source": [
    "# This is a simple arithmetic expression to multiply then add integers.\n",
    "result = (3 * 4) + 5\n",
    "result\n"
   ]
  },
  {
   "cell_type": "code",
   "execution_count": 18,
   "id": "2b9b9da2",
   "metadata": {},
   "outputs": [
    {
     "data": {
      "text/plain": [
       "3.3333333333333335"
      ]
     },
     "execution_count": 18,
     "metadata": {},
     "output_type": "execute_result"
    }
   ],
   "source": [
    "# This will convert 200 minutes to hours by diving by 60\n",
    "result = (200 / 60)\n",
    "result"
   ]
  },
  {
   "cell_type": "markdown",
   "id": "3faba310",
   "metadata": {},
   "source": [
    "# Objectives:\n",
    "\n",
    "- **List popular languages for Data Science**\n",
    "- **Explore commonly used libraries in Data Science**\n",
    "- **Understand the tools and development environments in Data Science**\n",
    "- **Provide an overview of the Data Science ecosystem**\n",
    "- **Demonstrate simple arithmetic operations in Python**\n"
   ]
  },
  {
   "cell_type": "markdown",
   "id": "687942ac",
   "metadata": {},
   "source": [
    "## Author \n",
    "\n",
    "Firudin\n",
    "\n"
   ]
  }
 ],
 "metadata": {
  "kernelspec": {
   "display_name": "Python 3 (ipykernel)",
   "language": "python",
   "name": "python3"
  },
  "language_info": {
   "codemirror_mode": {
    "name": "ipython",
    "version": 3
   },
   "file_extension": ".py",
   "mimetype": "text/x-python",
   "name": "python",
   "nbconvert_exporter": "python",
   "pygments_lexer": "ipython3",
   "version": "3.11.5"
  }
 },
 "nbformat": 4,
 "nbformat_minor": 5
}
